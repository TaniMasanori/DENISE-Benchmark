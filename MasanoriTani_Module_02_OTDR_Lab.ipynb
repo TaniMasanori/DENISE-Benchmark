{
  "nbformat": 4,
  "nbformat_minor": 0,
  "metadata": {
    "colab": {
      "provenance": [],
      "toc_visible": true,
      "include_colab_link": true
    },
    "kernelspec": {
      "name": "python3",
      "display_name": "Python 3"
    },
    "language_info": {
      "name": "python"
    }
  },
  "cells": [
    {
      "cell_type": "markdown",
      "metadata": {
        "id": "view-in-github",
        "colab_type": "text"
      },
      "source": [
        "<a href=\"https://colab.research.google.com/github/TaniMasanori/DENISE-Benchmark/blob/master/MasanoriTani_Module_02_OTDR_Lab.ipynb\" target=\"_parent\"><img src=\"https://colab.research.google.com/assets/colab-badge.svg\" alt=\"Open In Colab\"/></a>"
      ]
    },
    {
      "cell_type": "markdown",
      "source": [
        "# Module 02 LAB: OTDR data analysis\n",
        "\n",
        "Put Your Name Here:\n"
      ],
      "metadata": {
        "id": "ReU4pIStzw34"
      }
    },
    {
      "cell_type": "code",
      "execution_count": null,
      "metadata": {
        "id": "RPUeJbcCy5D8"
      },
      "outputs": [],
      "source": [
        "import numpy as np\n",
        "import matplotlib.pyplot as plt\n"
      ]
    },
    {
      "cell_type": "markdown",
      "source": [
        "## Data Format Explanation\n",
        "The downloaded data file contains the data of a synthetic OTDR measurement. In this data, the instrument sent 1024 pulses into the fiber and measured the light power of the backscatters. The time delay of backscatters compared to the pulse emission time is store in \"time_axis\" in seconds. The recorded backscatter power is stored in \"OTDR_raw_data\".\n",
        "\n",
        "The time delay in \"time_axis\" is for a single pulse, which is the same for all pulses. The length of time_axis is 5000, indicating the measurement were taken at 5000 locations along the fiber. The power measurement \"OTDR_raw_data\" is the sequantial measurement for 1024 pulses. As a result, the length of OTDR_raw_data is 5000*1024=5120000."
      ],
      "metadata": {
        "id": "wwRGI82u0siD"
      }
    },
    {
      "cell_type": "code",
      "source": [
        "# download data file\n",
        "!gdown 1CfStCYXI5_D7mBqZMoaa92beHuvohOsm\n",
        "\n",
        "# load variables\n",
        "otdr_data = np.load('./OTDR_data.npz')\n",
        "print(list(otdr_data.keys()))\n",
        "\n",
        "time_axis = otdr_data['time_axis']\n",
        "OTDR_raw_data = otdr_data['OTDR_data']\n",
        "\n",
        "print(time_axis.shape)\n",
        "print(OTDR_raw_data.shape)"
      ],
      "metadata": {
        "colab": {
          "base_uri": "https://localhost:8080/"
        },
        "id": "9HWK4D4kzc8O",
        "outputId": "481f1f52-4751-46a4-928f-ee415fd61c60"
      },
      "execution_count": null,
      "outputs": [
        {
          "output_type": "stream",
          "name": "stdout",
          "text": [
            "Downloading...\n",
            "From: https://drive.google.com/uc?id=1CfStCYXI5_D7mBqZMoaa92beHuvohOsm\n",
            "To: /content/OTDR_data.npz\n",
            "100% 41.0M/41.0M [00:00<00:00, 80.1MB/s]\n",
            "['time_axis', 'OTDR_data']\n",
            "(5000,)\n",
            "(5120000,)\n"
          ]
        }
      ]
    },
    {
      "cell_type": "code",
      "source": [
        "# ploting the measurements from the first 4 pulses\n",
        "\n",
        "plt.plot(OTDR_raw_data[:5000*4])"
      ],
      "metadata": {
        "colab": {
          "base_uri": "https://localhost:8080/",
          "height": 447
        },
        "id": "D66XhMaj0GYg",
        "outputId": "6c1b8e56-e8d9-42f3-998c-408767e6db91"
      },
      "execution_count": null,
      "outputs": [
        {
          "output_type": "execute_result",
          "data": {
            "text/plain": [
              "[<matplotlib.lines.Line2D at 0x7882b586cf70>]"
            ]
          },
          "metadata": {},
          "execution_count": 3
        },
        {
          "output_type": "display_data",
          "data": {
            "text/plain": [
              "<Figure size 640x480 with 1 Axes>"
            ],
            "image/png": "[encoded data removed]"
          },
          "metadata": {}
        }
      ]
    },
    {
      "cell_type": "markdown",
      "source": [
        "## Q1: Delay time to fiber distance\n",
        "\n",
        "The unit of time_axis is in second. By knowing the speed of light in vacuum is 3e8 m/s, and the refractive index of fiber is 1.5. Please convert the backscatter delay time to distance along the fiber."
      ],
      "metadata": {
        "id": "qNmLcAFY2yJs"
      }
    },
    {
      "cell_type": "code",
      "source": [
        "# Your Answer\n"
      ],
      "metadata": {
        "id": "f8-bX3uc21Nu"
      },
      "execution_count": null,
      "outputs": []
    },
    {
      "cell_type": "markdown",
      "source": [
        "## Q2: Stack the measurement of all pulses\n",
        "\n",
        "Calculate the average measurement from all pulses, and plot the averaged backscatter power measurement with fiber distance.\n",
        "\n",
        "Tip: it can be done through for loop or reshape of OTDR_raw_data."
      ],
      "metadata": {
        "id": "c6HEKb103qGD"
      }
    },
    {
      "cell_type": "code",
      "source": [
        "# Your Answer\n"
      ],
      "metadata": {
        "id": "pMxbglsQ4N8J"
      },
      "execution_count": null,
      "outputs": []
    },
    {
      "cell_type": "markdown",
      "source": [
        "## Q3: Estimate fiber length\n",
        "\n",
        "From the plot above, identify fiber end. Create a new zoom-in plot and estimate fiber length from the plot."
      ],
      "metadata": {
        "id": "GU9UuXut4rqk"
      }
    },
    {
      "cell_type": "code",
      "source": [
        "# Your Answer\n"
      ],
      "metadata": {
        "id": "HlccOFN75LUP"
      },
      "execution_count": null,
      "outputs": []
    },
    {
      "cell_type": "markdown",
      "source": [
        "## Q4: Estimate Power Loss per Kilometer\n",
        "\n",
        "Convert the fiber power to decibel using the following equation:\n",
        "\n",
        "$$\n",
        "L_p = 10\\log_{10}(P)\\ \\ \\text{dB}\n",
        "$$\n",
        "\n",
        "where $P$ is the laser power caculated above.\n",
        "\n",
        "* Plot the power loss in dB with fiber distance.\n",
        "\n",
        "* Estimate the fiber optical loss in unit of dB/km.\n",
        "\n",
        "* Explain whether this fiber loss one-way or two-way and why.\n",
        "\n",
        "Tip: you can use first-order polynomal fit (np.polyfit) to estimate the loss, which should be the slope of the power dB curve. Make sure do not include the section after fiber end in your estimation."
      ],
      "metadata": {
        "id": "u1tOaoln5gej"
      }
    },
    {
      "cell_type": "code",
      "source": [
        "# Your Answer"
      ],
      "metadata": {
        "id": "YEw07_ld7C4j"
      },
      "execution_count": null,
      "outputs": []
    },
    {
      "cell_type": "code",
      "source": [],
      "metadata": {
        "id": "Qm0Nb19O7e6-"
      },
      "execution_count": null,
      "outputs": []
    }
  ]
}